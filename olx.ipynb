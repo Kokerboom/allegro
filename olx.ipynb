{
 "cells": [
  {
   "cell_type": "code",
   "execution_count": 130,
   "metadata": {},
   "outputs": [],
   "source": [
    "import requests\n",
    "import re\n",
    "import datetime as dt\n",
    "import time\n",
    "from bs4 import BeautifulSoup\n",
    "import os\n",
    "from pandas.io.json import json_normalize\n",
    "from pymongo import MongoClient\n",
    "import urllib.request, json\n",
    "regex = re.compile('offer-path.*')\n",
    "url='https://www.olx.pl/oferty/q-dreamcast/'\n",
    "\n",
    "page = requests.get(url)"
   ]
  },
  {
   "cell_type": "code",
   "execution_count": 122,
   "metadata": {},
   "outputs": [],
   "source": [
    "os.chdir('/Users/miroslawjacoszek/python/allegro')\n",
    "\n",
    "f = open('config/config.json') \n",
    "\n",
    "config_json = json.load(f) \n",
    "  \n",
    "f.close()"
   ]
  },
  {
   "cell_type": "code",
   "execution_count": 123,
   "metadata": {},
   "outputs": [],
   "source": [
    "mongo_connection_string=config_json['mongodb']['connection_string']"
   ]
  },
  {
   "cell_type": "code",
   "execution_count": 106,
   "metadata": {},
   "outputs": [],
   "source": [
    "soup = BeautifulSoup(page.content, 'html.parser')\n",
    "results = soup.findAll(\"table\",{\"summary\": \"Ogłoszenie\"})"
   ]
  },
  {
   "cell_type": "code",
   "execution_count": 107,
   "metadata": {},
   "outputs": [],
   "source": [
    "title=results[1].find(\"a\",{\"data-cy\":\"listing-ad-title\"}).strong.get_text()\n",
    "link =results[1].find('a', href=True)['href']\n",
    "import re\n",
    "regex = re.compile('offer-path.*')\n",
    "category = results[1].find(\"p\", {\"class\" : regex}).get_text().replace('\\n', '').strip()\n"
   ]
  },
  {
   "cell_type": "code",
   "execution_count": null,
   "metadata": {},
   "outputs": [
    {
     "name": "stdout",
     "output_type": "stream",
     "text": [
      "sleep\n",
      "sleep\n"
     ]
    }
   ],
   "source": [
    "new_rows=1\n",
    "    \n",
    "while True: \n",
    "    \n",
    "    page = requests.get(url)\n",
    "    \n",
    "    current_time = dt.datetime.now()\n",
    "\n",
    "    if new_rows ==1:\n",
    "        with MongoClient(mongo_connection_string) as client_mongo:\n",
    "            mydb= client_mongo[\"allegro\"]\n",
    "            offer_tbl = mydb[\"offers\"]\n",
    "            offer_list=list(offer_tbl.find({},{'link':1, \"_id\": 0}))\n",
    "            offer_list=[d['link'] for d in offer_list]\n",
    "            \n",
    "        new_rows = 0\n",
    "        \n",
    "    for r in results:\n",
    "         \n",
    "        link =r.find('a', href=True)['href']\n",
    "        \n",
    "        if link in offer_list == False:\n",
    "            \n",
    "            title=r.find(\"a\",{\"data-cy\":\"listing-ad-title\"}).strong.get_text().replace('\\n', '')\n",
    "            link =r.find('a', href=True)['href']\n",
    "            category = r.find(\"p\", {\"class\" : regex}).get_text().replace('\\n', '').strip()\n",
    "            price=r.find(\"p\",{\"class\":\"price\"}).get_text().replace('\\n', '')\n",
    "            location=results[1].find(\"i\",{\"data-icon\": \"location-filled\"}).next_element\n",
    "            added=results[1].find(\"i\",{\"data-icon\": \"clock\"}).next_element\n",
    "            record_creation_date=current_time.strftime('%Y-%m-%d %H:%M:%S')\n",
    "\n",
    "            offer= {\"link\": link,\n",
    "                    \"title\": title,\n",
    "                    \"category\": category,\n",
    "                    \"price\": price,\n",
    "                    \"location\": location,\n",
    "                    \"added\": added,\n",
    "                    \"record_creation_date\": record_creation_date}\n",
    "\n",
    "            with MongoClient(mongo_connection_string) as client_mongo:\n",
    "                mydb= client_mongo[\"allegro\"]\n",
    "                mycol = mydb[\"offers\"]\n",
    "                mycol.insert_one(offer)\n",
    "            \n",
    "            new_rows = 1\n",
    "            \n",
    "            print(offer)\n",
    "\n",
    "    #break\n",
    "    print('sleep')\n",
    "    time.sleep(600)\n",
    "    "
   ]
  }
 ],
 "metadata": {
  "kernelspec": {
   "display_name": "Python 3",
   "language": "python",
   "name": "python3"
  },
  "language_info": {
   "codemirror_mode": {
    "name": "ipython",
    "version": 3
   },
   "file_extension": ".py",
   "mimetype": "text/x-python",
   "name": "python",
   "nbconvert_exporter": "python",
   "pygments_lexer": "ipython3",
   "version": "3.7.4"
  }
 },
 "nbformat": 4,
 "nbformat_minor": 4
}
